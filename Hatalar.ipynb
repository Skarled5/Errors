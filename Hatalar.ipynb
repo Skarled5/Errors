{
 "cells": [
  {
   "cell_type": "code",
   "execution_count": 2,
   "id": "3b51c0e3",
   "metadata": {},
   "outputs": [
    {
     "name": "stdout",
     "output_type": "stream",
     "text": [
      "Şifre girin: 1234Aa5678\n",
      "Geçerli şifre.\n"
     ]
    }
   ],
   "source": [
    "import re\n",
    "\n",
    "def validate_password(password):\n",
    "    if len(password) < 8:\n",
    "        raise Exception(\"Parola en az 7 karakter olmalıdır.\")\n",
    "    if not re.search(\"[a-z]\", password):\n",
    "        raise Exception(\"Parola en az bir küçük harf içermelidir.\")\n",
    "    if not re.search(\"[A-Z]\", password):\n",
    "        raise Exception(\"Parola en az bir büyük harf içermelidir.\")\n",
    "    if not re.search(\"[0-9]\", password):\n",
    "        raise Exception(\"Parola en az bir rakam içermelidir.\")\n",
    "\n",
    "try:\n",
    "    password = input(\"Şifre girin: \")\n",
    "    validate_password(password)\n",
    "    print(\"Geçerli şifre.\")\n",
    "except Exception as e:\n",
    "    print(\"Hata:\", str(e))\n",
    "    \n",
    "# raise komutu çalışırsa program durdurur ve hata mesajı ekranda görünür"
   ]
  },
  {
   "cell_type": "code",
   "execution_count": 3,
   "id": "2b7d1ee3",
   "metadata": {},
   "outputs": [],
   "source": [
    "#print(a)->NameError\n",
    "#print('1a2')->ValueError\n",
    "#print(\"denem\"e)->SyntaxError"
   ]
  },
  {
   "cell_type": "code",
   "execution_count": 4,
   "id": "27177939",
   "metadata": {},
   "outputs": [
    {
     "name": "stdout",
     "output_type": "stream",
     "text": [
      "1\n",
      "3\n"
     ]
    }
   ],
   "source": [
    "liste=['1','1a2','3']\n",
    "for i in liste:\n",
    "    try:\n",
    "        result=int(i)\n",
    "        print(result)\n",
    "    except ValueError:\n",
    "        continue\n",
    "        \n",
    "# try except tak amacı güvenli kodlar yazdırmak hatayı engellemek"
   ]
  },
  {
   "cell_type": "code",
   "execution_count": 5,
   "id": "ecf36ba9",
   "metadata": {},
   "outputs": [
    {
     "name": "stdout",
     "output_type": "stream",
     "text": [
      "paralo:232134\n",
      "Geçerli Paralo\n"
     ]
    }
   ],
   "source": [
    "turkceKarakter=\"şçğıöİ\"\n",
    "paralo=input(\"paralo:\")\n",
    "for i in paralo:\n",
    "    if turkceKarakter in paralo:\n",
    "        raise ValueError(\"Paralo türkçe karakter içermez!\")\n",
    "    else:\n",
    "        pass\n",
    "print(\"Geçerli Paralo\")\n"
   ]
  },
  {
   "cell_type": "code",
   "execution_count": 6,
   "id": "989836d2",
   "metadata": {},
   "outputs": [
    {
     "data": {
      "text/plain": [
       "120"
      ]
     },
     "execution_count": 6,
     "metadata": {},
     "output_type": "execute_result"
    }
   ],
   "source": [
    "def faktoriyel(k):\n",
    "    if k<0:\n",
    "        raise ValueError(\"- değer alamaz\")\n",
    "        \n",
    "    result=1\n",
    "\n",
    "    for i in range(1,k+1):\n",
    "        result*=i\n",
    "    \n",
    "    return result\n",
    "\n",
    "faktoriyel(5)        "
   ]
  },
  {
   "cell_type": "code",
   "execution_count": null,
   "id": "60b69f5e",
   "metadata": {},
   "outputs": [],
   "source": []
  }
 ],
 "metadata": {
  "kernelspec": {
   "display_name": "Python 3 (ipykernel)",
   "language": "python",
   "name": "python3"
  },
  "language_info": {
   "codemirror_mode": {
    "name": "ipython",
    "version": 3
   },
   "file_extension": ".py",
   "mimetype": "text/x-python",
   "name": "python",
   "nbconvert_exporter": "python",
   "pygments_lexer": "ipython3",
   "version": "3.9.12"
  }
 },
 "nbformat": 4,
 "nbformat_minor": 5
}
