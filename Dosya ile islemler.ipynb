{
 "cells": [
  {
   "cell_type": "code",
   "execution_count": null,
   "id": "ad0777cc",
   "metadata": {},
   "outputs": [],
   "source": [
    "def notlari_kaydet():\n",
    "    ad = input(\"Öğrenci adı: \")\n",
    "    soyad = input(\"Öğrenci soyadı: \")\n",
    "    notu = float(input(\"Öğrenci notu: \"))\n",
    "\n",
    "    if not 0 <= notu <= 100:\n",
    "        print(\"Geçersiz not değeri. Tekrar deneyin.\")\n",
    "        return\n",
    "\n",
    "    if notu >= 85:\n",
    "        degerlendirme = \"Çok İyi\"\n",
    "    elif notu >= 70:\n",
    "        degerlendirme = \"İyi\"\n",
    "    elif notu >= 55:\n",
    "        degerlendirme = \"Orta\"\n",
    "    else:\n",
    "        degerlendirme = \"Kötü\"\n",
    "\n",
    "    with open(\"ogrenci_notlar.txt\", \"a\") as dosya:\n",
    "        dosya.write(f\"{ad},{soyad},{notu},{degerlendirme}\\n\")\n",
    "\n",
    "    print(\"Notlar kaydedildi.\")\n",
    "\n",
    "def ortalamalari_oku():\n",
    "    with open(\"ogrenci_notlar.txt\", \"r\") as dosya:\n",
    "        for satir in dosya:\n",
    "            ad, soyad, notu, degerlendirme = satir.strip().split(\",\")\n",
    "            print(f\"Ad: {ad}, Soyad: {soyad}, Notu: {notu}, Değerlendirme: {degerlendirme}\")\n",
    "\n",
    "while True:\n",
    "    print(\"1. Notları Kaydet\")\n",
    "    print(\"2. Ortalamaları Oku\")\n",
    "    print(\"3. Çıkış\")\n",
    "\n",
    "    secim = input(\"Seçiminizi yapın: \")\n",
    "\n",
    "    if secim == \"1\":\n",
    "        notlari_kaydet()\n",
    "    elif secim == \"2\":\n",
    "        ortalamalari_oku()\n",
    "    elif secim == \"3\":\n",
    "        print(\"Programdan çıkılıyor.\")\n",
    "        break\n",
    "    else:\n",
    "        print(\"Geçersiz seçim. Tekrar deneyin.\")\n",
    "        \n",
    "# UTF-8 türkçe kelimeleride tanımlı yapar"
   ]
  }
 ],
 "metadata": {
  "kernelspec": {
   "display_name": "Python 3 (ipykernel)",
   "language": "python",
   "name": "python3"
  },
  "language_info": {
   "codemirror_mode": {
    "name": "ipython",
    "version": 3
   },
   "file_extension": ".py",
   "mimetype": "text/x-python",
   "name": "python",
   "nbconvert_exporter": "python",
   "pygments_lexer": "ipython3",
   "version": "3.9.12"
  }
 },
 "nbformat": 4,
 "nbformat_minor": 5
}
